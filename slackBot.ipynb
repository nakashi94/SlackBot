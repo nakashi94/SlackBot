{
 "cells": [
  {
   "cell_type": "code",
   "execution_count": 93,
   "metadata": {},
   "outputs": [
    {
     "name": "stdout",
     "output_type": "stream",
     "text": [
      "<generator object Tokenizer.__tokenize_stream at 0x7fbff67871b0>\n"
     ]
    }
   ],
   "source": [
    "from janome.tokenizer import Tokenizer\n",
    "tagger = Tokenizer(wakati=True)\n",
    "\n",
    "text = '私はキカガクです。'\n",
    "results = tagger.tokenize(text)\n",
    "print(results)"
   ]
  },
  {
   "cell_type": "code",
   "execution_count": 94,
   "metadata": {},
   "outputs": [
    {
     "name": "stdout",
     "output_type": "stream",
     "text": [
      "私\n",
      "<class 'str'>\n",
      "は\n",
      "<class 'str'>\n",
      "キカガク\n",
      "<class 'str'>\n",
      "です\n",
      "<class 'str'>\n",
      "。\n",
      "<class 'str'>\n"
     ]
    }
   ],
   "source": [
    "a = []\n",
    "for result in results:\n",
    "    print(result)\n",
    "    print(type(result))\n",
    "    a.append(str(result))"
   ]
  },
  {
   "cell_type": "code",
   "execution_count": 73,
   "metadata": {},
   "outputs": [
    {
     "name": "stdout",
     "output_type": "stream",
     "text": [
      "<generator object Tokenizer.__tokenize_stream at 0x7fbff6787138>\n"
     ]
    }
   ],
   "source": [
    "print(results)"
   ]
  },
  {
   "cell_type": "code",
   "execution_count": 71,
   "metadata": {},
   "outputs": [
    {
     "ename": "TypeError",
     "evalue": "'generator' object is not subscriptable",
     "output_type": "error",
     "traceback": [
      "\u001b[0;31m---------------------------------------------------------------------------\u001b[0m",
      "\u001b[0;31mTypeError\u001b[0m                                 Traceback (most recent call last)",
      "\u001b[0;32m<ipython-input-71-c5ec148a3276>\u001b[0m in \u001b[0;36m<module>\u001b[0;34m\u001b[0m\n\u001b[0;32m----> 1\u001b[0;31m \u001b[0mresult\u001b[0m \u001b[0;34m=\u001b[0m \u001b[0mresults\u001b[0m\u001b[0;34m[\u001b[0m\u001b[0;36m0\u001b[0m\u001b[0;34m]\u001b[0m\u001b[0;34m\u001b[0m\u001b[0;34m\u001b[0m\u001b[0m\n\u001b[0m\u001b[1;32m      2\u001b[0m \u001b[0mresult\u001b[0m\u001b[0;34m\u001b[0m\u001b[0;34m\u001b[0m\u001b[0m\n",
      "\u001b[0;31mTypeError\u001b[0m: 'generator' object is not subscriptable"
     ]
    }
   ],
   "source": [
    "result = results[0]\n",
    "result"
   ]
  },
  {
   "cell_type": "code",
   "execution_count": 21,
   "metadata": {},
   "outputs": [
    {
     "data": {
      "text/plain": [
       "{'node': <janome.lattice.SurfaceNode at 0x7fc0230eb0c8>,\n",
       " 'extra': ('記号,句点,*,*', '*', '*', '。', '。', '。')}"
      ]
     },
     "execution_count": 21,
     "metadata": {},
     "output_type": "execute_result"
    }
   ],
   "source": [
    "vars(result)"
   ]
  },
  {
   "cell_type": "code",
   "execution_count": 22,
   "metadata": {},
   "outputs": [
    {
     "data": {
      "text/plain": [
       "'。'"
      ]
     },
     "execution_count": 22,
     "metadata": {},
     "output_type": "execute_result"
    }
   ],
   "source": [
    "result.surface"
   ]
  },
  {
   "cell_type": "code",
   "execution_count": 27,
   "metadata": {},
   "outputs": [
    {
     "data": {
      "text/plain": [
       "<generator object Tokenizer.__tokenize_stream at 0x7fc0230f24f8>"
      ]
     },
     "execution_count": 27,
     "metadata": {},
     "output_type": "execute_result"
    }
   ],
   "source": [
    "tagger = Tokenizer(wakati=True)\n",
    "results = tagger.tokenize(text)\n",
    "results"
   ]
  },
  {
   "cell_type": "code",
   "execution_count": 33,
   "metadata": {},
   "outputs": [
    {
     "data": {
      "text/plain": [
       "[]"
      ]
     },
     "execution_count": 33,
     "metadata": {},
     "output_type": "execute_result"
    }
   ],
   "source": [
    "text"
   ]
  },
  {
   "cell_type": "code",
   "execution_count": 38,
   "metadata": {},
   "outputs": [
    {
     "name": "stdout",
     "output_type": "stream",
     "text": [
      "\u001b[33mWARNING: The directory '/home/jovyan/.cache/pip' or its parent directory is not owned or is not writable by the current user. The cache has been disabled. Check the permissions and owner of that directory. If executing pip with sudo, you should use sudo's -H flag.\u001b[0m\n",
      "Requirement already satisfied: janome in /opt/conda/lib/python3.7/site-packages (0.4.1)\n",
      "\u001b[33mWARNING: Running pip as the 'root' user can result in broken permissions and conflicting behaviour with the system package manager. It is recommended to use a virtual environment instead: https://pip.pypa.io/warnings/venv\u001b[0m\n"
     ]
    }
   ],
   "source": [
    "!pip install --upgrade janome"
   ]
  },
  {
   "cell_type": "code",
   "execution_count": 39,
   "metadata": {},
   "outputs": [
    {
     "name": "stdout",
     "output_type": "stream",
     "text": [
      "\u001b[33mWARNING: The directory '/home/jovyan/.cache/pip' or its parent directory is not owned or is not writable by the current user. The cache has been disabled. Check the permissions and owner of that directory. If executing pip with sudo, you should use sudo's -H flag.\u001b[0m\n",
      "Package            Version\n",
      "------------------ --------\n",
      "alembic            1.0.8\n",
      "asn1crypto         0.24.0\n",
      "async-generator    1.10\n",
      "attrs              19.1.0\n",
      "backcall           0.1.0\n",
      "beautifulsoup4     4.7.1\n",
      "bleach             3.1.0\n",
      "bokeh              1.0.4\n",
      "certifi            2019.3.9\n",
      "cffi               1.12.2\n",
      "chardet            3.0.4\n",
      "Click              7.0\n",
      "cloudpickle        0.8.1\n",
      "conda              4.6.8\n",
      "cryptography       2.6.1\n",
      "cycler             0.10.0\n",
      "Cython             0.29.6\n",
      "cytoolz            0.9.0.1\n",
      "dask               1.1.5\n",
      "decorator          4.4.0\n",
      "defusedxml         0.5.0\n",
      "dill               0.2.9\n",
      "distributed        1.26.1\n",
      "entrypoints        0.3\n",
      "fastcache          1.0.2\n",
      "gmpy2              2.0.8\n",
      "h5py               2.9.0\n",
      "heapdict           1.0.0\n",
      "idna               2.8\n",
      "imageio            2.5.0\n",
      "ipykernel          5.1.0\n",
      "ipython            7.4.0\n",
      "ipython-genutils   0.2.0\n",
      "ipython-sql        0.4.0\n",
      "ipywidgets         7.4.2\n",
      "Janome             0.4.1\n",
      "jedi               0.13.3\n",
      "Jinja2             2.10\n",
      "jsonschema         3.0.1\n",
      "jupyter-client     5.2.4\n",
      "jupyter-core       4.4.0\n",
      "jupyterhub         0.9.6\n",
      "jupyterlab         0.35.4\n",
      "jupyterlab-server  0.2.0\n",
      "kiwisolver         1.0.1\n",
      "llvmlite           0.27.1\n",
      "locket             0.2.0\n",
      "Mako               1.0.7\n",
      "MarkupSafe         1.1.1\n",
      "matplotlib         3.0.3\n",
      "mistune            0.8.4\n",
      "mpmath             1.1.0\n",
      "msgpack            0.6.1\n",
      "nbconvert          5.4.1\n",
      "nbformat           4.4.0\n",
      "networkx           2.2\n",
      "notebook           5.7.8\n",
      "numba              0.42.1\n",
      "numexpr            2.6.9\n",
      "numpy              1.15.4\n",
      "olefile            0.46\n",
      "packaging          19.0\n",
      "pamela             1.0.0\n",
      "pandas             0.24.2\n",
      "pandocfilters      1.4.2\n",
      "parso              0.3.4\n",
      "partd              0.3.9\n",
      "patsy              0.5.1\n",
      "pexpect            4.6.0\n",
      "pickleshare        0.7.5\n",
      "Pillow             5.4.1\n",
      "pip                21.3\n",
      "prettytable        0.7.2\n",
      "prometheus-client  0.6.0\n",
      "prompt-toolkit     2.0.9\n",
      "protobuf           3.7.0\n",
      "psutil             5.6.1\n",
      "psycopg2           2.9.1\n",
      "ptyprocess         0.6.0\n",
      "pycosat            0.6.3\n",
      "pycparser          2.19\n",
      "pycurl             7.43.0.2\n",
      "Pygments           2.3.1\n",
      "pyOpenSSL          19.0.0\n",
      "pyparsing          2.3.1\n",
      "pyrsistent         0.14.11\n",
      "PySocks            1.6.8\n",
      "python-dateutil    2.8.0\n",
      "python-editor      1.0.4\n",
      "python-oauth2      1.1.0\n",
      "pytz               2018.9\n",
      "PyWavelets         1.0.2\n",
      "PyYAML             5.1\n",
      "pyzmq              18.0.1\n",
      "requests           2.21.0\n",
      "ruamel-yaml        0.15.71\n",
      "scikit-image       0.14.2\n",
      "scikit-learn       0.20.3\n",
      "scipy              1.2.1\n",
      "seaborn            0.9.0\n",
      "Send2Trash         1.5.0\n",
      "setuptools         40.8.0\n",
      "six                1.12.0\n",
      "sortedcontainers   2.1.0\n",
      "soupsieve          1.9\n",
      "SQLAlchemy         1.3.1\n",
      "sqlparse           0.4.2\n",
      "statsmodels        0.9.0\n",
      "sympy              1.3\n",
      "tblib              1.3.2\n",
      "terminado          0.8.2\n",
      "testpath           0.4.2\n",
      "toolz              0.9.0\n",
      "tornado            6.0.2\n",
      "traitlets          4.3.2\n",
      "urllib3            1.24.1\n",
      "vincent            0.4.4\n",
      "wcwidth            0.1.7\n",
      "webencodings       0.5.1\n",
      "wheel              0.33.1\n",
      "widgetsnbextension 3.4.2\n",
      "xlrd               1.2.0\n",
      "zict               0.1.4\n"
     ]
    }
   ],
   "source": [
    "!pip list"
   ]
  },
  {
   "cell_type": "code",
   "execution_count": 41,
   "metadata": {},
   "outputs": [
    {
     "data": {
      "text/plain": [
       "<generator object Tokenizer.__tokenize_stream at 0x7fc01536eb10>"
      ]
     },
     "execution_count": 41,
     "metadata": {},
     "output_type": "execute_result"
    }
   ],
   "source": [
    "from janome.tokenizer import Tokenizer\n",
    "tagger = Tokenizer()\n",
    "\n",
    "# text = '私はキカガクです。'\n",
    "results = tagger.tokenize(u'私はキカガクです。', wakati=True)\n",
    "results"
   ]
  },
  {
   "cell_type": "code",
   "execution_count": 45,
   "metadata": {},
   "outputs": [
    {
     "name": "stdout",
     "output_type": "stream",
     "text": [
      "<generator object Tokenizer.__tokenize_stream at 0x7fc01536eb10>\n"
     ]
    }
   ],
   "source": [
    "print(str(results))"
   ]
  },
  {
   "cell_type": "code",
   "execution_count": 50,
   "metadata": {},
   "outputs": [
    {
     "ename": "TypeError",
     "evalue": "vars() argument must have __dict__ attribute",
     "output_type": "error",
     "traceback": [
      "\u001b[0;31m---------------------------------------------------------------------------\u001b[0m",
      "\u001b[0;31mTypeError\u001b[0m                                 Traceback (most recent call last)",
      "\u001b[0;32m<ipython-input-50-f3bbda19ad78>\u001b[0m in \u001b[0;36m<module>\u001b[0;34m\u001b[0m\n\u001b[0;32m----> 1\u001b[0;31m \u001b[0mvars\u001b[0m\u001b[0;34m(\u001b[0m\u001b[0mresults\u001b[0m\u001b[0;34m)\u001b[0m\u001b[0;34m\u001b[0m\u001b[0;34m\u001b[0m\u001b[0m\n\u001b[0m",
      "\u001b[0;31mTypeError\u001b[0m: vars() argument must have __dict__ attribute"
     ]
    }
   ],
   "source": [
    "vars(results)"
   ]
  },
  {
   "cell_type": "code",
   "execution_count": 95,
   "metadata": {},
   "outputs": [
    {
     "name": "stdout",
     "output_type": "stream",
     "text": [
      "['私', 'は', 'キカガク', 'です', '。']\n"
     ]
    }
   ],
   "source": [
    "print(a)"
   ]
  },
  {
   "cell_type": "code",
   "execution_count": 2,
   "metadata": {},
   "outputs": [
    {
     "name": "stdout",
     "output_type": "stream",
     "text": [
      "\u001b[33mWARNING: The directory '/home/jovyan/.cache/pip' or its parent directory is not owned or is not writable by the current user. The cache has been disabled. Check the permissions and owner of that directory. If executing pip with sudo, you should use sudo's -H flag.\u001b[0m\n",
      "Collecting gensim\n",
      "  Downloading gensim-4.1.2-cp37-cp37m-manylinux_2_12_x86_64.manylinux2010_x86_64.whl (24.1 MB)\n",
      "     |████████████████████████████████| 24.1 MB 4.5 MB/s            \n",
      "\u001b[?25hCollecting numpy>=1.17.0\n",
      "  Downloading numpy-1.21.2-cp37-cp37m-manylinux_2_12_x86_64.manylinux2010_x86_64.whl (15.7 MB)\n",
      "     |████████████████████████████████| 15.7 MB 7.6 MB/s            \n",
      "\u001b[?25hCollecting smart-open>=1.8.1\n",
      "  Downloading smart_open-5.2.1-py3-none-any.whl (58 kB)\n",
      "     |████████████████████████████████| 58 kB 8.0 MB/s             \n",
      "\u001b[?25hRequirement already satisfied: scipy>=0.18.1 in /opt/conda/lib/python3.7/site-packages (from gensim) (1.2.1)\n",
      "Installing collected packages: smart-open, numpy, gensim\n",
      "  Attempting uninstall: numpy\n",
      "    Found existing installation: numpy 1.15.4\n",
      "    Uninstalling numpy-1.15.4:\n",
      "      Successfully uninstalled numpy-1.15.4\n",
      "Successfully installed gensim-4.1.2 numpy-1.21.2 smart-open-5.2.1\n",
      "\u001b[33mWARNING: Running pip as the 'root' user can result in broken permissions and conflicting behaviour with the system package manager. It is recommended to use a virtual environment instead: https://pip.pypa.io/warnings/venv\u001b[0m\n"
     ]
    }
   ],
   "source": [
    "!pip install gensim"
   ]
  },
  {
   "cell_type": "code",
   "execution_count": 1,
   "metadata": {},
   "outputs": [],
   "source": [
    "text1 = \"私はキカガクです。\"\n",
    "text2 = \"キカガクは教育の会社です。\"\n",
    "text3 = \"教育は重要です。\""
   ]
  },
  {
   "cell_type": "code",
   "execution_count": 6,
   "metadata": {},
   "outputs": [
    {
     "name": "stdout",
     "output_type": "stream",
     "text": [
      "['私', 'は', 'キカガク', 'です', '。'] ['キカガク', 'は', '教育', 'の', '会社', 'です', '。'] ['教育', 'は', '重要', 'です', '。']\n"
     ]
    }
   ],
   "source": [
    "from janome.tokenizer import Tokenizer\n",
    "tagger = Tokenizer(wakati=True)\n",
    "\n",
    "# 形態素解析\n",
    "results1 = tagger.tokenize(text1)\n",
    "results2 = tagger.tokenize(text2)\n",
    "results3 = tagger.tokenize(text3)\n",
    "\n",
    "words1 = []\n",
    "words2 = []\n",
    "words3 = []\n",
    "\n",
    "for text in results1:\n",
    "    words1.append(text)\n",
    "    \n",
    "for text in results2:\n",
    "    words2.append(text)\n",
    "\n",
    "for text in results3:\n",
    "    words3.append(text)\n",
    "\n",
    "print(words1, words2, words3)"
   ]
  },
  {
   "cell_type": "code",
   "execution_count": 8,
   "metadata": {},
   "outputs": [
    {
     "data": {
      "text/plain": [
       "[['私', 'は', 'キカガク', 'です', '。'],\n",
       " ['キカガク', 'は', '教育', 'の', '会社', 'です', '。'],\n",
       " ['教育', 'は', '重要', 'です', '。']]"
      ]
     },
     "execution_count": 8,
     "metadata": {},
     "output_type": "execute_result"
    }
   ],
   "source": [
    "from gensim import corpora, matutils"
   ]
  },
  {
   "cell_type": "code",
   "execution_count": 9,
   "metadata": {},
   "outputs": [
    {
     "data": {
      "text/plain": [
       "[['私', 'は', 'キカガク', 'です', '。'],\n",
       " ['キカガク', 'は', '教育', 'の', '会社', 'です', '。'],\n",
       " ['教育', 'は', '重要', 'です', '。']]"
      ]
     },
     "execution_count": 9,
     "metadata": {},
     "output_type": "execute_result"
    }
   ],
   "source": [
    "word_collect = [words1, words2, words3]\n",
    "word_collect"
   ]
  },
  {
   "cell_type": "code",
   "execution_count": 11,
   "metadata": {},
   "outputs": [
    {
     "data": {
      "text/plain": [
       "<gensim.corpora.dictionary.Dictionary at 0x7f442abb3ac8>"
      ]
     },
     "execution_count": 11,
     "metadata": {},
     "output_type": "execute_result"
    }
   ],
   "source": [
    "dictionary = corpora.Dictionary(word_collect)\n",
    "dictionary"
   ]
  },
  {
   "cell_type": "code",
   "execution_count": 12,
   "metadata": {},
   "outputs": [],
   "source": [
    "n_words = len(dictionary)\n",
    "n_words"
   ]
  },
  {
   "cell_type": "code",
   "execution_count": 14,
   "metadata": {},
   "outputs": [
    {
     "name": "stdout",
     "output_type": "stream",
     "text": [
      "(0, '。')\n",
      "(1, 'です')\n",
      "(2, 'は')\n",
      "(3, 'キカガク')\n",
      "(4, '私')\n",
      "(5, 'の')\n",
      "(6, '会社')\n",
      "(7, '教育')\n",
      "(8, '重要')\n"
     ]
    }
   ],
   "source": [
    "for word in dictionary.items():\n",
    "    print(word)"
   ]
  },
  {
   "cell_type": "code",
   "execution_count": 16,
   "metadata": {},
   "outputs": [
    {
     "data": {
      "text/plain": [
       "{'token2id': {'。': 0,\n",
       "  'です': 1,\n",
       "  'は': 2,\n",
       "  'キカガク': 3,\n",
       "  '私': 4,\n",
       "  'の': 5,\n",
       "  '会社': 6,\n",
       "  '教育': 7,\n",
       "  '重要': 8},\n",
       " 'id2token': {0: '。',\n",
       "  1: 'です',\n",
       "  2: 'は',\n",
       "  3: 'キカガク',\n",
       "  4: '私',\n",
       "  5: 'の',\n",
       "  6: '会社',\n",
       "  7: '教育',\n",
       "  8: '重要'},\n",
       " 'cfs': {4: 1, 2: 3, 3: 2, 1: 3, 0: 3, 7: 2, 5: 1, 6: 1, 8: 1},\n",
       " 'dfs': {4: 1, 2: 3, 3: 2, 1: 3, 0: 3, 7: 2, 5: 1, 6: 1, 8: 1},\n",
       " 'num_docs': 3,\n",
       " 'num_pos': 17,\n",
       " 'num_nnz': 17,\n",
       " 'lifecycle_events': [{'msg': \"built Dictionary(9 unique tokens: ['。', 'です', 'は', 'キカガク', '私']...) from 3 documents (total 17 corpus positions)\",\n",
       "   'datetime': '2021-10-12T17:26:31.760220',\n",
       "   'gensim': '4.1.2',\n",
       "   'python': '3.7.1 | packaged by conda-forge | (default, Mar 13 2019, 12:57:14) \\n[GCC 7.3.0]',\n",
       "   'platform': 'Linux-5.4.72-microsoft-standard-WSL2-x86_64-with-debian-buster-sid',\n",
       "   'event': 'created'}]}"
      ]
     },
     "execution_count": 16,
     "metadata": {},
     "output_type": "execute_result"
    }
   ],
   "source": [
    "vars(dictionary)"
   ]
  },
  {
   "cell_type": "code",
   "execution_count": 17,
   "metadata": {},
   "outputs": [
    {
     "name": "stdout",
     "output_type": "stream",
     "text": [
      "\u001b[0m\u001b[01;32mdocker-compose.yml\u001b[0m*  \u001b[01;32mDockerfile-jupyter\u001b[0m*  \u001b[34;42msummpy\u001b[0m/\r\n",
      "\u001b[01;32mDockerfile-db\u001b[0m*       slackBot.ipynb\r\n"
     ]
    }
   ],
   "source": [
    "%ls"
   ]
  },
  {
   "cell_type": "code",
   "execution_count": 18,
   "metadata": {},
   "outputs": [
    {
     "name": "stderr",
     "output_type": "stream",
     "text": [
      "/opt/conda/lib/python3.7/site-packages/sklearn/feature_extraction/image.py:167: DeprecationWarning: `np.int` is a deprecated alias for the builtin `int`. To silence this warning, use `int` by itself. Doing this will not modify any behavior and is safe. When replacing `np.int`, you may wish to use e.g. `np.int64` or `np.int32` to specify the precision. If you wish to review your current use, check the release note link for additional information.\n",
      "Deprecated in NumPy 1.20; for more details and guidance: https://numpy.org/devdocs/release/1.20.0-notes.html#deprecations\n",
      "  dtype=np.int):\n"
     ]
    }
   ],
   "source": [
    "from summpy.summpy.lexrank import summarize"
   ]
  },
  {
   "cell_type": "code",
   "execution_count": 19,
   "metadata": {},
   "outputs": [],
   "source": [
    "text = \"\"\"\n",
    "ＡＩ導入に失敗する3つの落とし穴を現役講師が紹介「創業1年でセミナー登壇150回・受講生3,000名」の実績\n",
    "2018/02/05\n",
    "\n",
    "人工知能・機械学習の教育およびコンサルティング事業を手がける株式会社キカガク(本社：東京都豊島区、代表取締役社長：吉崎 亮介、以下、当社)は、2018年1月18日で創業1周年を迎え、この1年間でセミナー・イベント登壇150回、受講生が3,000名を超えました。\n",
    "\n",
    "セミナーを開催する中で、参考書では書かれていない、現場でAIを導入する際に見落とされがちな3つの落とし穴が浮き彫りになりましたので、こちらの記事でご報告いたします。\n",
    "\n",
    "受講生とお祝いする１周年記念パーティー\n",
    "\n",
    "主な取り組み    \n",
    "ディープラーニングハンズオンセミナー\n",
    "(日本マイクロソフト株式会社、株式会社Preferred Networks)\n",
    "京都府データサイエンティスト養成講座\n",
    "(SOMPOホールディングス株式会社、京都府)\n",
    "実践！機械学習　ビジネス活用講座\n",
    "(株式会社日経BP)\n",
    "AI導入に失敗する3つの落とし穴    \n",
    "多くの方を指導する中で、うまく導入できない事例にも遭遇することがあり、AIが万能ではないということを身をもって実感する1年でもありました。\n",
    "そこで、少しでも多くの方が失敗することを避けられるように、参考書では書かれていないけれど、現場で導入する際に見落とされがちな3つの落とし穴を紹介します。\n",
    "\n",
    "1.揃っているデータと使えるデータが違う\n",
    "\n",
    "「大量にデータを蓄積できているため、こちらをAIで解析したい」という相談が多くありました。手段と目的が逆転していることは当然の間違いですが、こういった相談の大半はデータを見ると確かに大量にデータを蓄積できているのですが、AI(≒機械学習)にとっては「使えない」形式でした。\n",
    "AIで解析を行うためには最初に目的を設定する必要があり、その目的に応じたデータを保有しておく必要があります。\n",
    "しかし、目的なく蓄積されたデータでは、AIによって解析できず、その結果、データから目的を見つけ出すといった手段と目的が逆転してしまう問題が度々生じています。\n",
    "近年、IoT(Internet of Things)の注目が増し、様々なデータを収集するサービスの提供が始まっていますが、解析の目的が明確でないまま収集を行っているケースもあります。\n",
    "「使うために貯める」ことがデータ収集の大前提であり、「使うAI」を意識して「貯めるIoT」の実施が求められています。\n",
    "また、目的に応じて蓄積できているデータの場合も落とし穴があり、そのデータがAIに即時使える形式でないことが多くありました。\n",
    "そのため、Python等のプログラミングを駆使して、そのデータを「使える形」に整理する必要があり、この作業には比較的長い時間を要するため、作業期間の設定に注意が必要です。\n",
    "\n",
    "落とし穴1    \n",
    "目的なく蓄積されたデータは使えない\n",
    "データが揃っている場合も「使える」ためのデータ整理に多くの時間を割く\n",
    "2.導入後のオペレーションを意識していない\n",
    "\n",
    "AIブームの到来に伴い、AIに関する参考書も多く出版され、「モデル構築」と呼ばれるデータ間の関係性を導き出す手法を勉強する人が増加しました。\n",
    "「予測精度が80％」といったデータ解析を駆使した議論ができる人材が増える一方、その解析結果を現場のシステムへ導入できている人は未だ一握りです。\n",
    "「AIによる解析」と「導入に必要なシステム自動化」に必要なスキルセットは異なり、解析は終えたものの導入の障壁で挫折するケースも少なくありません。\n",
    "また、AIによって今の作業をすべて代替させる前提で取り組む人が多いという問題もあります。\n",
    "「AIは人間よりも強い」といった誤解が未だにありますが、人間に囲碁で勝利したAIなど限られたルールの中で、極めて優秀な技術者が集まり、膨大な計算機リソースが使えるといった特殊なケースを除き、「人間を100点として、どのくらいその機能に近づけていくことができるか」が取り組むべき課題となります。\n",
    "\n",
    "そのため、精度100％を出すことは現実的に困難であるため、100％の精度でない中でもオペレーションを効率化できる仕組みづくりが重要となります。\n",
    "「人間をAIに置き換えたい」ではなく、「人間の作業の一部をAIに置き換えて、作業の効率化を図りたい」という問題設定で考えなければなりません。\n",
    "\n",
    "落とし穴2    \n",
    "解析の手法を学ぶだけでは導入には至らない\n",
    "AIによって作業をすべて代替させるのではなく、AIと人間の共存によって効率化が図れる仕組みづくりが必要\n",
    "3.プロジェクトの引き継ぎを意識していない\n",
    "\n",
    "AIによる解析結果を現場に導入できたとしても、そのプロジェクトのメンバーが常にアサインされるものではなく、メンバーの変更や退職といったリスクがあります。\n",
    "その際に、ソースコードと説明書は引き継ぎ資料として共有されますが、解析した手順やうまくいかなかった時にどのように対処したかといった「過程」が共有されることは滅多にありません。\n",
    "Web系の制作と比較して、AIによる解析はフレームワークと呼ばれるプログラミングをサポートするツールを使用し、ソースコードの量は比較的少ない(時には数行程度)ことが多くあります。\n",
    "そのソースコードの中には、実験による試行錯誤で調整した値がいくつかあり、なぜその値に設定したかは挙動を見ながら実験した人しかわからない情報です。\n",
    "そのため、ソースコードを共有したところで、本質的な内容を引継ぐことができず、パッチを当てるような保守運用しかできなくなる技術的負債のリスクが生じます。しかし、限りある時間の中で、過程を共有するための膨大な資料を作成することは困難といえます。\n",
    "そのため、当社では解析を行う際にデスクトップ画面の動画を撮影しておくことで、作業手順の過程を共有できる工夫をしています。\n",
    "\n",
    "落とし穴3    \n",
    "一人の解析者に頼りきると技術的負債のリスクが高まる\n",
    "成果を共有するソースコード以外にも、過程を共有する手段が必要\n",
    "実践を意識したカリキュラム    \n",
    "今回紹介した3つの落とし穴も含め、単にプログラミングを勉強するだけではAIの導入が実現できることはありませんでした。\n",
    "その代表の苦い経験から、当社では実務での活用を意識したゴール設定の短期セミナーを開催しています。\n",
    "日本マイクロソフト株式会社、株式会社Preferred Networks両社公認で開催している「ディープラーニングハンズオンセミナー」をはじめ、当社では実践を意識したカリキュラムで1年間で100社以上のAI人材育成の研修を担当させていただいております。\n",
    "ディープラーニングハンズオンセミナーでは過去の受講生アンケートで満足度100％と高く評価していただいておりますので、「これからAIを使いたいけれど、何から始めれば良いか迷っている」いう方におすすめです。\n",
    "\n",
    "キカガクの満足度が高い3つの理由    \n",
    "\n",
    "\n",
    "1.「手書きの数学」と「ハンズオン形式のプログラミング」のプログラミング\n",
    "\n",
    "2.実務での活用をゴールと設定した「実践的なカリキュラム」\n",
    "\n",
    "3.オフラインの集合形式で「集中して学びやすい環境」\n",
    "\n",
    "「学び方×内容×環境」の3つが新しいことを学ぶ上で重要であると考えています。\n",
    "\n",
    "定期開催しているセミナー以外に、AI事業化のための相談や、出張での法人研修(5名～)も承っておりますので、お気軽にご相談いただけます。\n",
    "\n",
    "セミナー情報    \n",
    "ディープラーニングハンズオンセミナー日程    \n",
    "3日間のハンズオン形式により知識やスキルを効率よく習得できます。\n",
    "\n",
    "2月7日(水)・2月8日(木)・2月9日(金) ＠品川(日本マイクロソフト)\n",
    "2月26日(月)・2月27日(火)・2月28日(水) ＠大阪(日本マイクロソフト)\n",
    "3月7日(水)・3月8日(木)・3月9日(金) ＠品川(日本マイクロソフト)\n",
    "○その他セミナー日程(全日程池袋オフィス開催)\n",
    "\n",
    "2月3日(土)・2月4日(日)　脱ブラックボックスセミナー\n",
    "2月10日(土)・2月11日(日)　システム自動化セミナー\n",
    "2月17日(土)・2月18日(日)　データサイエンスセミナー\n",
    "2月24日(土)・2月25日(日)　脱ブラックボックスセミナー\n",
    "3月10日(土)・3月11日(日)　脱ブラックボックスセミナー\n",
    "3月17日(土)・3月18日(日)　データエンジニアリングセミナー\n",
    "3月22日(木)・3月23日(金)　脱ブラックボックスセミナー\n",
    "セミナー詳細・お申込みはこちら\n",
    "URL： https://www.www.kikagaku.co.jp/services/seminars/\n",
    "\n",
    "株式会社キカガクについて    \n",
    "人工知能・機械学習の導入を進めるための教育・コンサルティング・データ解析・システム開発を行っています。特に、今後の日本の産業への人工知能技術を扱えるエンジニアの重要性に注目し、現在は人工知能技術の教育事業を主軸としています。\n",
    "\n",
    "会社概要    \n",
    "会社名　： 株式会社キカガク\n",
    "\n",
    "代表者　： 代表取締役社長　吉崎 亮介\n",
    "\n",
    "所在地　： 東京都豊島区池袋2丁目72−8 池袋笹井ビル2階\n",
    "\n",
    "設立日　： 2017年1月17日\n",
    "\n",
    "業務内容： 機械学習の教育およびコンサルティング\n",
    "\n",
    "URL　　 ： https://www.www.kikagaku.co.jp/\n",
    "\"\"\""
   ]
  },
  {
   "cell_type": "code",
   "execution_count": 20,
   "metadata": {},
   "outputs": [
    {
     "name": "stderr",
     "output_type": "stream",
     "text": [
      "/opt/conda/lib/python3.7/site-packages/sklearn/metrics/pairwise.py:54: DeprecationWarning: `np.float` is a deprecated alias for the builtin `float`. To silence this warning, use `float` by itself. Doing this will not modify any behavior and is safe. If you specifically wanted the numpy scalar type, use `np.float64` here.\n",
      "Deprecated in NumPy 1.20; for more details and guidance: https://numpy.org/devdocs/release/1.20.0-notes.html#deprecations\n",
      "  dtype = np.float\n"
     ]
    }
   ],
   "source": [
    "# 文章要約の実行\n",
    "sentences, debug_info = summarize(\n",
    "    text, sent_limit=3, continuous=True, debug=True\n",
    ")"
   ]
  },
  {
   "cell_type": "code",
   "execution_count": 21,
   "metadata": {},
   "outputs": [
    {
     "data": {
      "text/plain": [
       "['AI導入に失敗する3つの落とし穴    \\n',\n",
       " '今回紹介した3つの落とし穴も含め、単にプログラミングを勉強するだけではAIの導入が実現できることはありませんでした。\\n',\n",
       " '日本マイクロソフト株式会社、株式会社Preferred Networks両社公認で開催している「ディープラーニングハンズオンセミナー」をはじめ、当社では実践を意識したカリキュラムで1年間で100社以上のAI人材育成の研修を担当させていただいております。\\n']"
      ]
     },
     "execution_count": 21,
     "metadata": {},
     "output_type": "execute_result"
    }
   ],
   "source": [
    "# 要約した結果\n",
    "sentences"
   ]
  },
  {
   "cell_type": "code",
   "execution_count": null,
   "metadata": {},
   "outputs": [],
   "source": []
  }
 ],
 "metadata": {
  "kernelspec": {
   "display_name": "Python 3",
   "language": "python",
   "name": "python3"
  },
  "language_info": {
   "codemirror_mode": {
    "name": "ipython",
    "version": 3
   },
   "file_extension": ".py",
   "mimetype": "text/x-python",
   "name": "python",
   "nbconvert_exporter": "python",
   "pygments_lexer": "ipython3",
   "version": "3.7.1"
  }
 },
 "nbformat": 4,
 "nbformat_minor": 2
}
